{
  "cells": [
    {
      "metadata": {
        "_uuid": "8f2839f25d086af736a60e9eeb907d3b93b6e0e5",
        "_cell_guid": "b1076dfc-b9ad-4769-8c92-a6c4dae69d19",
        "trusted": true,
        "scrolled": true
      },
      "cell_type": "code",
      "source": "# This Python 3 environment comes with many helpful analytics libraries installed\n# It is defined by the kaggle/python docker image: https://github.com/kaggle/docker-python\n# For example, here's several helpful packages to load in \n# all import functions here \n\nimport numpy as np # linear algebra\nimport pandas as pd # data processing, CSV file I/O (e.g. pd.read_csv)\n\nfrom termcolor import colored # data visualization tool\nfrom bokeh.plotting import figure, show, output_notebook \nfrom bokeh.layouts import gridplot\nfrom bokeh.models import ColumnarDataSource\n\nfrom sklearn.linear_model import LinearRegression # model \nfrom sklearn.metrics import accuracy_score\nfrom sklearn.metrics import f1_score\nfrom sklearn.model_selection import train_test_split\n\n\n# Input data files are available in the \"../input/\" directory.\n# For example, running this (by clicking run or pressing Shift+Enter) will list the files in the input directory\n\nimport os\nprint(os.listdir(\"../input\")) \n\n# Any results you write to the current directory are saved as output.",
      "execution_count": 4,
      "outputs": [
        {
          "output_type": "stream",
          "text": "['order_products__train.csv', 'products.csv', 'departments.csv', 'order_products__prior.csv', 'orders.csv', 'sample_submission.csv', 'aisles.csv']\n",
          "name": "stdout"
        }
      ]
    },
    {
      "metadata": {
        "collapsed": true,
        "_uuid": "dd8cb345fd4dffcb04f0d677918861a74eba8d2b",
        "_cell_guid": "ab3bc60d-45b0-4255-ba8b-e7a385cce049",
        "trusted": false
      },
      "cell_type": "code",
      "source": "# visualize the data with bokeh plotting for data visualization \n# consider what data you need, try dow and days since previous order in linear regression model\n# join the dfs to find all orders from a user_id, and all products from an order ",
      "execution_count": null,
      "outputs": []
    },
    {
      "metadata": {
        "trusted": true,
        "collapsed": true,
        "_uuid": "a2416236ef4eda82025e80316582f5b99936442b"
      },
      "cell_type": "code",
      "source": "kaggle_files = os.listdir(\"../input/\")",
      "execution_count": null,
      "outputs": []
    },
    {
      "metadata": {
        "trusted": true,
        "_uuid": "15707acd14f48a8de5349dda4e0e4ebc579323ed"
      },
      "cell_type": "code",
      "source": "# put data into data frames, and organize it in a neat way to read\n\nfor file_name in kaggle_files:\n#    shortcut\n# print('df_' + file_name[:-4] + (len(max(kaggle_files, key=len))-len(file_name))*' ' + \" = pd.read_csv('../input/\" + file_name + \"')\")\n\n    df_order_products__train = pd.read_csv('../input/order_products__train.csv')\n    df_products = pd.read_csv('../input/products.csv')\n    df_departments = pd.read_csv('../input/departments.csv')\n    df_order_products__prior = pd.read_csv('../input/order_products__prior.csv')\n    df_orders = pd.read_csv('../input/orders.csv')\n    df_aisles = pd.read_csv('../input/aisles.csv')\n    df_sample_submission = pd.read_csv('../input/sample_submission.csv')",
      "execution_count": 46,
      "outputs": []
    },
    {
      "metadata": {
        "_uuid": "d629ff2d2480ee46fbb7e2d37f6b5fab8052498a",
        "_cell_guid": "79c7e3d0-c299-4dcb-8224-4455121ee9b0",
        "trusted": true
      },
      "cell_type": "code",
      "source": "# get sample of data DataFrame.head(n=x); head, tail, sample, n = no. of results \ndf_order_products__train.sample(n=2)",
      "execution_count": 57,
      "outputs": [
        {
          "output_type": "execute_result",
          "execution_count": 57,
          "data": {
            "text/plain": "        order_id  product_id  add_to_cart_order  reordered\n117068    285928       48784                 14          0\n661171   1626561       42392                  6          1",
            "text/html": "<div>\n<style scoped>\n    .dataframe tbody tr th:only-of-type {\n        vertical-align: middle;\n    }\n\n    .dataframe tbody tr th {\n        vertical-align: top;\n    }\n\n    .dataframe thead th {\n        text-align: right;\n    }\n</style>\n<table border=\"1\" class=\"dataframe\">\n  <thead>\n    <tr style=\"text-align: right;\">\n      <th></th>\n      <th>order_id</th>\n      <th>product_id</th>\n      <th>add_to_cart_order</th>\n      <th>reordered</th>\n    </tr>\n  </thead>\n  <tbody>\n    <tr>\n      <th>117068</th>\n      <td>285928</td>\n      <td>48784</td>\n      <td>14</td>\n      <td>0</td>\n    </tr>\n    <tr>\n      <th>661171</th>\n      <td>1626561</td>\n      <td>42392</td>\n      <td>6</td>\n      <td>1</td>\n    </tr>\n  </tbody>\n</table>\n</div>"
          },
          "metadata": {}
        }
      ]
    },
    {
      "metadata": {
        "trusted": true,
        "_uuid": "91057f45c2479e52ddc51a82ff6f00f7364ea095"
      },
      "cell_type": "code",
      "source": "df_orders.sample(n=2)",
      "execution_count": 58,
      "outputs": [
        {
          "output_type": "execute_result",
          "execution_count": 58,
          "data": {
            "text/plain": "         order_id  user_id eval_set  order_number  order_dow  \\\n554073    2609511    33407    prior            10          6   \n2811889   2274292   169650     test            24          2   \n\n         order_hour_of_day  days_since_prior_order  \n554073                  17                     6.0  \n2811889                 16                    30.0  ",
            "text/html": "<div>\n<style scoped>\n    .dataframe tbody tr th:only-of-type {\n        vertical-align: middle;\n    }\n\n    .dataframe tbody tr th {\n        vertical-align: top;\n    }\n\n    .dataframe thead th {\n        text-align: right;\n    }\n</style>\n<table border=\"1\" class=\"dataframe\">\n  <thead>\n    <tr style=\"text-align: right;\">\n      <th></th>\n      <th>order_id</th>\n      <th>user_id</th>\n      <th>eval_set</th>\n      <th>order_number</th>\n      <th>order_dow</th>\n      <th>order_hour_of_day</th>\n      <th>days_since_prior_order</th>\n    </tr>\n  </thead>\n  <tbody>\n    <tr>\n      <th>554073</th>\n      <td>2609511</td>\n      <td>33407</td>\n      <td>prior</td>\n      <td>10</td>\n      <td>6</td>\n      <td>17</td>\n      <td>6.0</td>\n    </tr>\n    <tr>\n      <th>2811889</th>\n      <td>2274292</td>\n      <td>169650</td>\n      <td>test</td>\n      <td>24</td>\n      <td>2</td>\n      <td>16</td>\n      <td>30.0</td>\n    </tr>\n  </tbody>\n</table>\n</div>"
          },
          "metadata": {}
        }
      ]
    },
    {
      "metadata": {
        "trusted": true,
        "_uuid": "e8498d69f1179447de58edc1b1a387ba50d08439"
      },
      "cell_type": "code",
      "source": "df_products.head(n=2)",
      "execution_count": 60,
      "outputs": [
        {
          "output_type": "execute_result",
          "execution_count": 60,
          "data": {
            "text/plain": "   product_id                product_name  aisle_id  department_id\n0           1  Chocolate Sandwich Cookies        61             19\n1           2            All-Seasons Salt       104             13",
            "text/html": "<div>\n<style scoped>\n    .dataframe tbody tr th:only-of-type {\n        vertical-align: middle;\n    }\n\n    .dataframe tbody tr th {\n        vertical-align: top;\n    }\n\n    .dataframe thead th {\n        text-align: right;\n    }\n</style>\n<table border=\"1\" class=\"dataframe\">\n  <thead>\n    <tr style=\"text-align: right;\">\n      <th></th>\n      <th>product_id</th>\n      <th>product_name</th>\n      <th>aisle_id</th>\n      <th>department_id</th>\n    </tr>\n  </thead>\n  <tbody>\n    <tr>\n      <th>0</th>\n      <td>1</td>\n      <td>Chocolate Sandwich Cookies</td>\n      <td>61</td>\n      <td>19</td>\n    </tr>\n    <tr>\n      <th>1</th>\n      <td>2</td>\n      <td>All-Seasons Salt</td>\n      <td>104</td>\n      <td>13</td>\n    </tr>\n  </tbody>\n</table>\n</div>"
          },
          "metadata": {}
        }
      ]
    },
    {
      "metadata": {
        "trusted": true,
        "_uuid": "c1f58d5fc87ec428176e0c365e187229fa667531"
      },
      "cell_type": "code",
      "source": "df_departments.head(n=2)",
      "execution_count": 63,
      "outputs": [
        {
          "output_type": "execute_result",
          "execution_count": 63,
          "data": {
            "text/plain": "   department_id department\n0              1     frozen\n1              2      other",
            "text/html": "<div>\n<style scoped>\n    .dataframe tbody tr th:only-of-type {\n        vertical-align: middle;\n    }\n\n    .dataframe tbody tr th {\n        vertical-align: top;\n    }\n\n    .dataframe thead th {\n        text-align: right;\n    }\n</style>\n<table border=\"1\" class=\"dataframe\">\n  <thead>\n    <tr style=\"text-align: right;\">\n      <th></th>\n      <th>department_id</th>\n      <th>department</th>\n    </tr>\n  </thead>\n  <tbody>\n    <tr>\n      <th>0</th>\n      <td>1</td>\n      <td>frozen</td>\n    </tr>\n    <tr>\n      <th>1</th>\n      <td>2</td>\n      <td>other</td>\n    </tr>\n  </tbody>\n</table>\n</div>"
          },
          "metadata": {}
        }
      ]
    },
    {
      "metadata": {
        "_uuid": "2ad12cc4e9f2e51cb07f106c3539f4ee6564162b",
        "_cell_guid": "b01f4fc3-f884-459e-bef2-fb1a247e92bd",
        "trusted": true
      },
      "cell_type": "code",
      "source": "# consider what data you need, try dow and days since previous order in linear regression model\n# join the dfs to find all orders from a user_id, and all products from an order \n\ndf_user_order = df_order_products__train.join ( df_orders.set_index( [ 'order_id' ], verify_integrity=True ),\n               on=[ 'order_id' ], how='left' )\ndf_user_order.head(n=2)",
      "execution_count": 67,
      "outputs": [
        {
          "output_type": "execute_result",
          "execution_count": 67,
          "data": {
            "text/plain": "   order_id  product_id  add_to_cart_order  reordered  user_id eval_set  \\\n0         1       49302                  1          1   112108    train   \n1         1       11109                  2          1   112108    train   \n\n   order_number  order_dow  order_hour_of_day  days_since_prior_order  \n0             4          4                 10                     9.0  \n1             4          4                 10                     9.0  ",
            "text/html": "<div>\n<style scoped>\n    .dataframe tbody tr th:only-of-type {\n        vertical-align: middle;\n    }\n\n    .dataframe tbody tr th {\n        vertical-align: top;\n    }\n\n    .dataframe thead th {\n        text-align: right;\n    }\n</style>\n<table border=\"1\" class=\"dataframe\">\n  <thead>\n    <tr style=\"text-align: right;\">\n      <th></th>\n      <th>order_id</th>\n      <th>product_id</th>\n      <th>add_to_cart_order</th>\n      <th>reordered</th>\n      <th>user_id</th>\n      <th>eval_set</th>\n      <th>order_number</th>\n      <th>order_dow</th>\n      <th>order_hour_of_day</th>\n      <th>days_since_prior_order</th>\n    </tr>\n  </thead>\n  <tbody>\n    <tr>\n      <th>0</th>\n      <td>1</td>\n      <td>49302</td>\n      <td>1</td>\n      <td>1</td>\n      <td>112108</td>\n      <td>train</td>\n      <td>4</td>\n      <td>4</td>\n      <td>10</td>\n      <td>9.0</td>\n    </tr>\n    <tr>\n      <th>1</th>\n      <td>1</td>\n      <td>11109</td>\n      <td>2</td>\n      <td>1</td>\n      <td>112108</td>\n      <td>train</td>\n      <td>4</td>\n      <td>4</td>\n      <td>10</td>\n      <td>9.0</td>\n    </tr>\n  </tbody>\n</table>\n</div>"
          },
          "metadata": {}
        }
      ]
    },
    {
      "metadata": {
        "_uuid": "719654845335c9876fe344b780205f1de6ae5080",
        "_cell_guid": "c865ec01-715a-4d98-bbdf-44defb661c93",
        "trusted": true
      },
      "cell_type": "code",
      "source": "df_user_product_info = df_user_order.join (df_products.set_index (['product_id'], verify_integrity=True),\n                                        on=['product_id'],how='left')\ndf_user_product_info.head(n=2)",
      "execution_count": 70,
      "outputs": [
        {
          "output_type": "execute_result",
          "execution_count": 70,
          "data": {
            "text/plain": "   order_id  product_id  add_to_cart_order  reordered  user_id eval_set  \\\n0         1       49302                  1          1   112108    train   \n1         1       11109                  2          1   112108    train   \n\n   order_number  order_dow  order_hour_of_day  days_since_prior_order  \\\n0             4          4                 10                     9.0   \n1             4          4                 10                     9.0   \n\n                                    product_name  aisle_id  department_id  \n0                               Bulgarian Yogurt       120             16  \n1  Organic 4% Milk Fat Whole Milk Cottage Cheese       108             16  ",
            "text/html": "<div>\n<style scoped>\n    .dataframe tbody tr th:only-of-type {\n        vertical-align: middle;\n    }\n\n    .dataframe tbody tr th {\n        vertical-align: top;\n    }\n\n    .dataframe thead th {\n        text-align: right;\n    }\n</style>\n<table border=\"1\" class=\"dataframe\">\n  <thead>\n    <tr style=\"text-align: right;\">\n      <th></th>\n      <th>order_id</th>\n      <th>product_id</th>\n      <th>add_to_cart_order</th>\n      <th>reordered</th>\n      <th>user_id</th>\n      <th>eval_set</th>\n      <th>order_number</th>\n      <th>order_dow</th>\n      <th>order_hour_of_day</th>\n      <th>days_since_prior_order</th>\n      <th>product_name</th>\n      <th>aisle_id</th>\n      <th>department_id</th>\n    </tr>\n  </thead>\n  <tbody>\n    <tr>\n      <th>0</th>\n      <td>1</td>\n      <td>49302</td>\n      <td>1</td>\n      <td>1</td>\n      <td>112108</td>\n      <td>train</td>\n      <td>4</td>\n      <td>4</td>\n      <td>10</td>\n      <td>9.0</td>\n      <td>Bulgarian Yogurt</td>\n      <td>120</td>\n      <td>16</td>\n    </tr>\n    <tr>\n      <th>1</th>\n      <td>1</td>\n      <td>11109</td>\n      <td>2</td>\n      <td>1</td>\n      <td>112108</td>\n      <td>train</td>\n      <td>4</td>\n      <td>4</td>\n      <td>10</td>\n      <td>9.0</td>\n      <td>Organic 4% Milk Fat Whole Milk Cottage Cheese</td>\n      <td>108</td>\n      <td>16</td>\n    </tr>\n  </tbody>\n</table>\n</div>"
          },
          "metadata": {}
        }
      ]
    },
    {
      "metadata": {
        "trusted": true,
        "collapsed": true,
        "_uuid": "f99ab665406acdb0c9c2ebc90d280294bd9668c2"
      },
      "cell_type": "code",
      "source": "",
      "execution_count": null,
      "outputs": []
    }
  ],
  "metadata": {
    "kernelspec": {
      "display_name": "Python 3",
      "language": "python",
      "name": "python3"
    },
    "language_info": {
      "name": "python",
      "version": "3.6.4",
      "mimetype": "text/x-python",
      "codemirror_mode": {
        "name": "ipython",
        "version": 3
      },
      "pygments_lexer": "ipython3",
      "nbconvert_exporter": "python",
      "file_extension": ".py"
    }
  },
  "nbformat": 4,
  "nbformat_minor": 1
}